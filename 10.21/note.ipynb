{
 "cells": [
  {
   "cell_type": "markdown",
   "id": "55e5967b",
   "metadata": {},
   "source": [
    "# python 选择和循环结构 #"
   ]
  },
  {
   "cell_type": "markdown",
   "id": "48571a90",
   "metadata": {},
   "source": [
    "其他的一些结构和别的语言类似，在此就不赘述。\n",
    "单独看一下推导式"
   ]
  },
  {
   "cell_type": "code",
   "execution_count": 1,
   "id": "78125942",
   "metadata": {},
   "outputs": [
    {
     "name": "stdout",
     "output_type": "stream",
     "text": [
      "a_list: [0, 1, 4, 9, 16, 25, 36, 49, 64, 81]\n",
      "setnew: {16, 4, 36}\n",
      "newdict: {'Tom': 3, 'Jerry': 5}\n",
      "squares_gen: <generator object <genexpr> at 0x0000024BC3567ED0>\n"
     ]
    }
   ],
   "source": [
    "#使用方括号[expression for item in list]\n",
    "\n",
    "#列表推导式\n",
    "a_list = [x*x for x in range(10)]\n",
    "print(f\"a_list: {a_list}\")\n",
    "\n",
    "#集合推导式\n",
    "tuple = (1,1,2,3,4,5,6,6)\n",
    "setnew = {x**2 for x in tuple if x%2==0}\n",
    "print(f\"setnew: {setnew}\")\n",
    "\n",
    "#字典推导式\n",
    "list1 = ['Tom','Jerry']\n",
    "newdict= {key:len(key) for key in list1}\n",
    "print(f\"newdict: {newdict}\")\n",
    "\n",
    "#元组推导式\n",
    "squares_gen=(n**2 for n in range(10))\n",
    "print(f\"squares_gen: {squares_gen}\")\n",
    "\n",
    "\n"
   ]
  },
  {
   "cell_type": "markdown",
   "id": "28ee5cf4",
   "metadata": {},
   "source": [
    "迭代器和生成器，for循环和推导式的底层核心\n",
    "迭代器：\n",
    "    迭代器对象从集合的第一个元素开始迭代，直到所有的元素被访问完结束。迭代器对象可以表示一个集合中的元素。"
   ]
  },
  {
   "cell_type": "code",
   "execution_count": null,
   "id": "5377b5b8",
   "metadata": {},
   "outputs": [],
   "source": [
    "# 演示迭代器（生成器）耗尽\n",
    "nums = [1, 2, 3]\n",
    "squares_gen = (n**2 for n in nums) \n",
    "\n",
    "print(f\"生成器对象: {squares_gen}\")\n",
    "\n",
    "# 第一次遍历：使用 sum()\n",
    "# sum() 会调用 next() 遍历所有元素 (1, 4, 9) 并求和\n",
    "print(f\"第一次求和: {sum(squares_gen)}\") # 输出 14\n",
    "\n",
    "# 第二次遍历：尝试再次求和\n",
    "# 此时迭代器已耗尽\n",
    "print(f\"第二次求和: {sum(squares_gen)}\")  # 输出 0 [cite: 485]\n",
    "\n",
    "# 演示 'in' 导致的部分耗尽 [cite: 501, 508-513]\n",
    "squares_gen_2 = (n**2 for n in nums)\n",
    "print(f\"\\n新的生成器: {squares_gen_2}\")\n",
    "# 检查 9 是否在内\n",
    "# 迭代器会执行 next() -> 1, next() -> 4, next() -> 9。找到 9，停止。\n",
    "print(f\"9 in squares_gen_2: {9 in squares_gen_2}\") # True\n",
    "\n",
    "# 此时迭代器已耗尽（因为它已经遍历到了 9）\n",
    "# 再次检查 4 是否在内\n",
    "print(f\"4 in squares_gen_2: {4 in squares_gen_2}\")  # False [cite: 513]"
   ]
  }
 ],
 "metadata": {
  "kernelspec": {
   "display_name": "cs231n",
   "language": "python",
   "name": "python3"
  },
  "language_info": {
   "codemirror_mode": {
    "name": "ipython",
    "version": 3
   },
   "file_extension": ".py",
   "mimetype": "text/x-python",
   "name": "python",
   "nbconvert_exporter": "python",
   "pygments_lexer": "ipython3",
   "version": "3.10.18"
  }
 },
 "nbformat": 4,
 "nbformat_minor": 5
}
