{
 "cells": [
  {
   "cell_type": "code",
   "execution_count": null,
   "id": "8bb8bb97",
   "metadata": {},
   "outputs": [
    {
     "name": "stdout",
     "output_type": "stream",
     "text": [
      "[(1, 4, 7), (2, 5, 8), (3, 6, 9)]\n"
     ]
    }
   ],
   "source": [
    "#元组---数据结构\n",
    "#元组的一些特点：\n",
    "#1.元组中的元素是不可变的\n",
    "#2.元组中的元素可以是任意数据类型\n",
    "#3。有序性\n",
    "#4.元组中的元素可以重复\n",
    "#5.元组中的元素可以是任意数据类型\n",
    "#创建一个元组\n",
    "tuple=(1,2,3,4,5,6,7,8,9,10)\n",
    "#zip函数的用法\n",
    "a=[1,2,3]\n",
    "b=[4,5,6]\n",
    "c=[7,8,9]\n",
    "d=zip(a,b,c)\n",
    "print(list(d))\n",
    "#*zip是反回二维的矩阵式\n"
   ]
  },
  {
   "cell_type": "markdown",
   "id": "91a0ecf4",
   "metadata": {},
   "source": [
    "# Python 数据结构之 字典 #"
   ]
  },
  {
   "cell_type": "code",
   "execution_count": 6,
   "id": "a96f0f7c",
   "metadata": {},
   "outputs": [
    {
     "name": "stdout",
     "output_type": "stream",
     "text": [
      "--- A. 程序开始执行 ---\n",
      "函数调用前，全局 x: 我是全局变量 (global)\n",
      "\n",
      "--- B. 调用 scope_example() ---\n",
      "--- 1. 进入函数内部 ---\n",
      "函数内部打印 x: 我是局部变量 (local)\n",
      "函数内部打印 y: 我也是局部变量\n",
      "\n",
      "--- 2. 使用 locals() 查看 ---\n",
      "局部变量 'x' 的值是: 我是局部变量 (local)\n",
      "局部变量 'y' 的值是: 我也是局部变量\n",
      "\n",
      "--- 3. 使用 globals() 查看 ---\n",
      "全局变量 'x' 的值是: 我是全局变量 (global)\n",
      "\n",
      "--- C. 回到全局作用域 ---\n",
      "scope_example() 调用后，全局 x: 我是全局变量 (global)\n",
      "\n",
      "--- D. 调用 modify_global_variable() ---\n",
      "\n",
      "--- 4. 进入修改全局变量的函数 ---\n",
      "修改前，函数内访问的全局 x: 我是全局变量 (global)\n",
      "修改后，函数内访问的全局 x: 全局变量已被修改！\n",
      "\n",
      "--- E. 再次回到全局作用域 ---\n",
      "modify_global_variable() 调用后，全局 x: 全局变量已被修改！\n",
      "\n",
      "--- F. 尝试在全局访问局部变量 ---\n",
      "访问变量 'y' 失败，因为它是局部变量。错误信息: name 'y' is not defined\n"
     ]
    },
    {
     "data": {
      "text/plain": [
       "dict_items([('name', 'zhangsan'), ('age', 20), ('sex', 'male')])"
      ]
     },
     "execution_count": 6,
     "metadata": {},
     "output_type": "execute_result"
    }
   ],
   "source": [
    "#创建字典的方法\n",
    "#创建一个字典\n",
    "#globals()是返回含有当前作用域内所有全局变量和值的字典\n",
    "#locals()是返回含有当前作用域内所有局部变量和值的字典\n",
    "\n",
    "\n",
    "#示例代码\n",
    "# 1. 定义一个全局变量\n",
    "x = \"我是全局变量 (global)\"\n",
    "\n",
    "def scope_example():\n",
    "    # 2. 定义一个局部变量\n",
    "    x = \"我是局部变量 (local)\"\n",
    "    y = \"我也是局部变量\"\n",
    "\n",
    "    print(\"--- 1. 进入函数内部 ---\")\n",
    "    # 在函数内部，Python 优先使用局部作用域的变量\n",
    "    # 所以这里的 x 是 \"我是局部变量 (local)\"\n",
    "    print(f\"函数内部打印 x: {x}\")\n",
    "    print(f\"函数内部打印 y: {y}\")\n",
    "\n",
    "    # 3. 使用 locals() 查看局部作用域\n",
    "    # 它会显示函数内定义的所有变量，包括 x 和 y\n",
    "    print(\"\\n--- 2. 使用 locals() 查看 ---\")\n",
    "    local_variables = locals()\n",
    "    print(f\"局部变量 'x' 的值是: {local_variables['x']}\")\n",
    "    print(f\"局部变量 'y' 的值是: {local_variables['y']}\")\n",
    "\n",
    "    # 4. 使用 globals() 查看全局作用域\n",
    "    # 我们可以通过它来“看到”外面的全局变量 x\n",
    "    print(\"\\n--- 3. 使用 globals() 查看 ---\")\n",
    "    global_variables = globals()\n",
    "    print(f\"全局变量 'x' 的值是: {global_variables['x']}\")\n",
    "\n",
    "def modify_global_variable():\n",
    "    # 5. 使用 'global' 关键字来声明我们要修改的是全局变量 x\n",
    "    global x\n",
    "    \n",
    "    print(\"\\n--- 4. 进入修改全局变量的函数 ---\")\n",
    "    print(f\"修改前，函数内访问的全局 x: {x}\")\n",
    "    \n",
    "    # 这里的修改会直接影响到函数外部的全局变量 x\n",
    "    x = \"全局变量已被修改！\"\n",
    "    print(f\"修改后，函数内访问的全局 x: {x}\")\n",
    "\n",
    "\n",
    "# --- 程序执行开始 ---\n",
    "\n",
    "print(\"--- A. 程序开始执行 ---\")\n",
    "# 在函数外部，我们访问的是全局变量\n",
    "print(f\"函数调用前，全局 x: {x}\")\n",
    "\n",
    "print(\"\\n--- B. 调用 scope_example() ---\")\n",
    "scope_example()\n",
    "\n",
    "print(\"\\n--- C. 回到全局作用域 ---\")\n",
    "# 调用 scope_example() 并不会影响全局变量 x 的值\n",
    "# 因为函数内部的 x = \"...\" 操作只是创建了一个新的局部变量\n",
    "print(f\"scope_example() 调用后，全局 x: {x}\")\n",
    "\n",
    "print(\"\\n--- D. 调用 modify_global_variable() ---\")\n",
    "modify_global_variable()\n",
    "\n",
    "print(\"\\n--- E. 再次回到全局作用域 ---\")\n",
    "# 因为 modify_global_variable() 函数使用了 global 关键字\n",
    "# 所以全局变量 x 的值被成功修改了\n",
    "print(f\"modify_global_variable() 调用后，全局 x: {x}\")\n",
    "\n",
    "\n",
    "print(\"\\n--- F. 尝试在全局访问局部变量 ---\")\n",
    "# 尝试访问变量 y 会失败，因为它只存在于 scope_example 函数的局部作用域中\n",
    "try:\n",
    "    print(y)\n",
    "except NameError as e:\n",
    "    print(f\"访问变量 'y' 失败，因为它是局部变量。错误信息: {e}\")\n",
    "\n",
    "dict1 = {'name':'zhangsan','age':20,'sex':'male'}\n",
    "#或者用dict方法根据已有的数据创建一个字典\n",
    "dict2 = dict(name='zhangsan',age=20,sex='male')\n",
    "#或者用zip方法将两个列表转换为字典\n",
    "keys = ['name','age','sex']\n",
    "values = ['zhangsan',20,'male']\n",
    "dict3=dict(zip(keys,values))\n",
    "#字典的函数\n",
    "#获取字典的key\n",
    "dict1.keys()\n",
    "#获取字典的value\n",
    "dict1.values()\n",
    "#获取字典的key和value\n",
    "dict1.items()\n"
   ]
  },
  {
   "cell_type": "code",
   "execution_count": 9,
   "id": "bfcbcc7b",
   "metadata": {},
   "outputs": [
    {
     "name": "stdout",
     "output_type": "stream",
     "text": [
      "zhangsan\n",
      "20\n",
      "20\n",
      "{'name': 'zhangsan', 'age': 20, 'sex': 'male'}\n",
      "{'name': 'zhangsan', 'sex': 'male'}\n",
      "zhangsan\n",
      "{'sex': 'male'}\n",
      "('sex', 'male')\n",
      "{}\n"
     ]
    }
   ],
   "source": [
    "#字典的一些基本的操作\n",
    "#get()函数就是一个以字典中key为参数，返回对应value的函数\n",
    "#get()函数的第二个参数是默认值，如果key不存在，则返回默认值\n",
    "print(dict1.get('name'))\n",
    "print(dict1.get('age'))\n",
    "print(dict1.get('age', 18))\n",
    "\n",
    "#使用update()函数可以将一个字典中的元素添加到另一个字典中\n",
    "#update()函数的参数可以是字典，也可以是元组的列表\n",
    "dict1.update(dict2)\n",
    "print(dict1)\n",
    "\n",
    "#使用del删除特定key的元素\n",
    "del dict1['age']\n",
    "print(dict1)\n",
    "\n",
    "#使用pop函数删除并返回指定键的元素\n",
    "print(dict1.pop('name'))\n",
    "print(dict1)\n",
    "\n",
    "#使用popitem()函数随机删除一个一个键值对\n",
    "print(dict1.popitem())\n",
    "print(dict1)"
   ]
  },
  {
   "cell_type": "code",
   "execution_count": 10,
   "id": "e20a22f8",
   "metadata": {},
   "outputs": [
    {
     "name": "stdout",
     "output_type": "stream",
     "text": [
      "{1, 2, 3, 4, 5, 6, 7}\n",
      "{3, 4, 5}\n",
      "{1, 2}\n",
      "{1, 2, 6, 7}\n"
     ]
    }
   ],
   "source": [
    "\n",
    "#集合是无序的，可变序列，使用大括号界定，元素不可重复\n",
    "set1 = {1,2,3,4,5}\n",
    "\n",
    "set2 = {3,4,5,6,7}\n",
    "\n",
    "#常用函数del,pop,remove,clear\n",
    "#pop是随机删除期中一个元素\n",
    "\n",
    "# 集合的操作是支持一些基本的集合操作，如并集、交集、差集等。\n",
    "print(set1 | set2)\n",
    "print(set1 & set2)\n",
    "print(set1 - set2)\n",
    "print(set1 ^ set2)\n"
   ]
  }
 ],
 "metadata": {
  "kernelspec": {
   "display_name": "learn_python",
   "language": "python",
   "name": "python3"
  },
  "language_info": {
   "codemirror_mode": {
    "name": "ipython",
    "version": 3
   },
   "file_extension": ".py",
   "mimetype": "text/x-python",
   "name": "python",
   "nbconvert_exporter": "python",
   "pygments_lexer": "ipython3",
   "version": "3.11.13"
  }
 },
 "nbformat": 4,
 "nbformat_minor": 5
}
