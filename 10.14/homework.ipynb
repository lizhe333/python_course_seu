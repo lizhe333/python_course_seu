{
 "cells": [
  {
   "cell_type": "code",
   "execution_count": 1,
   "id": "c7b208f6",
   "metadata": {},
   "outputs": [
    {
     "name": "stdout",
     "output_type": "stream",
     "text": [
      "[['a', 1, 2, 3], ['b', 4, 5, 6]]\n"
     ]
    }
   ],
   "source": [
    "# 列表的列表和字典互相转换– 把字典转换为列表的列表，即列表中每个元素也是一个列表，\n",
    "# 该列表的第一个元素为key，\n",
    "# 其它元素为value– 将列表的列表转换为字典– 以上均至少用2种方法实现\n",
    "def q1_solution1(d):\n",
    "  final_list=[]\n",
    "  for key,value in d.items():\n",
    "    inner_list=[key]+value\n",
    "    final_list.append(inner_list)\n",
    "  return final_list\n",
    "\n",
    "#初始化一个字典，来检验这个函数\n",
    "d={'a':[1,2,3],'b':[4,5,6]}\n",
    "print(q1_solution1(d))\n",
    "    "
   ]
  },
  {
   "cell_type": "code",
   "execution_count": null,
   "id": "caa49c7d",
   "metadata": {},
   "outputs": [
    {
     "name": "stdout",
     "output_type": "stream",
     "text": [
      "[['a', 1], ['b', 2], ['c', 3]]\n"
     ]
    }
   ],
   "source": [
    "def q1_solution2(d):\n",
    "  #使用列表推导式\n",
    "  #注意这里不能使用[key]+value，因为value是列表，所以要使用[key,value]\n",
    "    return [[key,value] for key,value in d.items()]\n",
    "  \n",
    "#初始化一个字典\n",
    "d = {'a': 1, 'b': 2, 'c': 3}\n",
    "#调用函数检验\n",
    "print(q1_solution2(d))\n"
   ]
  },
  {
   "cell_type": "code",
   "execution_count": null,
   "id": "782e143d",
   "metadata": {},
   "outputs": [
    {
     "name": "stdout",
     "output_type": "stream",
     "text": [
      "翻转并输出\n",
      "euxadnangnod\n",
      "输出奇数位的子字符串\n",
      "dnnnau\n",
      "输出字符串后3位字符串\n",
      "xue\n",
      "将字符串当中的小写字母变成大写字母\n",
      "DONGNANDAXUE\n"
     ]
    }
   ],
   "source": [
    "#简单字符串的操作\n",
    "#创建一个字符串\n",
    "string1=\"dongnandaxue\"\n",
    "\n",
    "#翻转并输出\n",
    "print(\"翻转并输出\")\n",
    "print(string1[::-1])\n",
    "\n",
    "#输出奇数位的子字符串\n",
    "print(\"输出奇数位的子字符串\")\n",
    "print(string1[::2])\n",
    "\n",
    "#输出字符串后k位字符串\n",
    "len_str=len(string1)\n",
    "k=3\n",
    "print(\"输出字符串后3位字符串\")\n",
    "print(string1[len_str-k::])\n",
    "\n",
    "#将字符串当中的小写字母变成大写字母\n",
    "print(\"将字符串当中的小写字母变成大写字母\")\n",
    "print(string1.upper())\n",
    "\n",
    "#判断字符串是否以\".jpg结尾\n",
    "print(\"判断字符串是否以.jpg结尾\")\n",
    "print(string1.endswith(\".jpg\"))"
   ]
  },
  {
   "cell_type": "code",
   "execution_count": 8,
   "id": "bdfc6a8e",
   "metadata": {},
   "outputs": [
    {
     "name": "stdout",
     "output_type": "stream",
     "text": [
      "用字典表示的树形结构:\n",
      "{'A': ['B', 'C'], 'B': ['D', None], 'C': ['E', 'F'], 'D': [None, None], 'E': [None, None], 'F': [None, None]}\n",
      "\n",
      "节点 'A' 的孩子是: ['B', 'C']\n",
      "节点 'A' 的左孩子是: B\n",
      "节点 'B' 的右孩子是: None\n",
      "节点 'D' 是一个叶子节点吗? True\n",
      "节点 'A' 通过 'B' 的孙子节点是: ['D', None]\n"
     ]
    }
   ],
   "source": [
    "#使用字典来存储一个树的结构\n",
    "# 定义一个字典来存储示例树的结构\n",
    "# key 是当前节点\n",
    "# value 是一个列表 [左子节点, 右子节点]\n",
    "# 如果某个子节点不存在，我们用 None 表示\n",
    "\n",
    "tree = {\n",
    "    'A': ['B', 'C'],    # 根节点 A，左孩子是 B，右孩子是 C\n",
    "    'B': ['D', None],   # 节点 B，只有左孩子 D，没有右孩子\n",
    "    'C': ['E', 'F'],    # 节点 C，左孩子是 E，右孩子是 F\n",
    "    'D': [None, None],  # 节点 D 是叶子节点，没有孩子\n",
    "    'E': [None, None],  # 节点 E 是叶子节点\n",
    "    'F': [None, None]   # 节点 F 是叶子节点\n",
    "}\n",
    "\n",
    "# 打印整个树的字典表示\n",
    "print(\"用字典表示的树形结构:\")\n",
    "print(tree)\n",
    "\n",
    "# --- 如何使用这个字典 ---\n",
    "\n",
    "# 1. 查找根节点 'A' 的所有孩子\n",
    "children_of_A = tree['A']\n",
    "print(f\"\\n节点 'A' 的孩子是: {children_of_A}\")\n",
    "# 输出: 节点 'A' 的孩子是: ['B', 'C']\n",
    "\n",
    "# 2. 查找节点 'A' 的左孩子\n",
    "left_child_of_A = tree['A'][0]\n",
    "print(f\"节点 'A' 的左孩子是: {left_child_of_A}\")\n",
    "# 输出: 节点 'A' 的左孩子是: B\n",
    "\n",
    "# 3. 查找节点 'B' 的右孩子\n",
    "right_child_of_B = tree['B'][1]\n",
    "print(f\"节点 'B' 的右孩子是: {right_child_of_B}\")\n",
    "# 输出: 节点 'B' 的右孩子是: None\n",
    "\n",
    "# 4. 检查 'D' 是不是一个叶子节点\n",
    "is_leaf_D = (tree['D'] == [None, None])\n",
    "print(f\"节点 'D' 是一个叶子节点吗? {is_leaf_D}\")\n",
    "# 输出: 节点 'D' 是一个叶子节点吗? True\n",
    "\n",
    "# 5. 查找 'A' 的 \"左孙子\" (即 B 的左孩子 D)\n",
    "# 首先找到 A 的左孩子 B\n",
    "child_B = tree['A'][0]\n",
    "# 然后用 B 作为 key，找到 B 的孩子\n",
    "grandchildren_of_A_via_B = tree[child_B]\n",
    "print(f\"节点 'A' 通过 'B' 的孙子节点是: {grandchildren_of_A_via_B}\")\n",
    "# 输出: 节点 'A' 通过 'B' 的孙子节点是: ['D', None]\n"
   ]
  }
 ],
 "metadata": {
  "kernelspec": {
   "display_name": "learn_python",
   "language": "python",
   "name": "python3"
  },
  "language_info": {
   "codemirror_mode": {
    "name": "ipython",
    "version": 3
   },
   "file_extension": ".py",
   "mimetype": "text/x-python",
   "name": "python",
   "nbconvert_exporter": "python",
   "pygments_lexer": "ipython3",
   "version": "3.11.13"
  }
 },
 "nbformat": 4,
 "nbformat_minor": 5
}
