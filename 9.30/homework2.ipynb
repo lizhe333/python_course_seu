{
 "cells": [
  {
   "cell_type": "code",
   "execution_count": 1,
   "id": "bb3f17e1",
   "metadata": {},
   "outputs": [
    {
     "name": "stdout",
     "output_type": "stream",
     "text": [
      "原始数组：[1, 2, 3, 4, 5, 6, 7, 8, 9]\n",
      "偶数列：[1, 3, 5, 7, 9]\n",
      "奇数列：[2, 4, 6, 8]\n"
     ]
    }
   ],
   "source": [
    "#数组切片\n",
    "#分别选取一个数组的奇数列和偶数列\n",
    "#对数组元素逆序排列\n",
    "#对数组中的元素重复n次\n",
    "\n",
    "#实例数组\n",
    "array = [1,2,3,4,5,6,7,8,9]\n",
    "\n",
    "#语法规则\n",
    "#数组名[起始位置:结束位置:步长]\n",
    "event_cols = array[::2]\n",
    "odd_cols = array[1::2]\n",
    "print(f\"原始数组：{array}\")\n",
    "print(f\"偶数列：{event_cols}\")\n",
    "print(f\"奇数列：{odd_cols}\")\n"
   ]
  },
  {
   "cell_type": "code",
   "execution_count": null,
   "id": "7382a9c8",
   "metadata": {},
   "outputs": [
    {
     "name": "stdout",
     "output_type": "stream",
     "text": [
      "原始数组：[1, 2, 3, 4, 5, 6, 7, 8, 9, 10]\n",
      "数组和：55\n",
      "排序后的数组：[1, 2, 3, 4, 5, 6, 7, 8, 9, 10]\n",
      "随机打乱数组:[6, 9, 7, 3, 5, 8, 2, 1, 4, 10]\n",
      "随机选择一个数字:3\n"
     ]
    }
   ],
   "source": [
    "import random\n",
    "#简单数组操作\n",
    "#对数组排序，求和，随机打乱，从中随机选择一个数字\n",
    "array = [1,2,3,4,5,6,7,8,9,10]\n",
    "array_sorted=sorted(array)\n",
    "print(f\"原始数组：{array}\")\n",
    "print(f\"数组和：{sum(array)}\")\n",
    "print(f\"排序后的数组：{array_sorted}\")\n",
    "random.shuffle(array)\n",
    "#random.shuffle(array)是在原地进行打乱\n",
    "print(f\"随机打乱数组:{array}\")\n",
    "print(f\"随机选择一个数字:{random.choice(array)}\")\n",
    "\n"
   ]
  },
  {
   "cell_type": "code",
   "execution_count": 6,
   "id": "51487c14",
   "metadata": {},
   "outputs": [
    {
     "name": "stdout",
     "output_type": "stream",
     "text": [
      "[1, 2, 3]\n",
      "[4, 5, 6]\n",
      "[7, 8, 9]\n",
      "\n",
      "按行的中心线，垂直翻转以后：\n",
      "[7, 8, 9]\n",
      "[4, 5, 6]\n",
      "[1, 2, 3]\n",
      "\n",
      " 按列的中心线，水平翻转以后：\n",
      "[3, 2, 1]\n",
      "[6, 5, 4]\n",
      "[9, 8, 7]\n"
     ]
    }
   ],
   "source": [
    "#对一个二维数组进行操作\n",
    "#先初始化一个二维数组\n",
    "array_2d = [[1, 2, 3], [4, 5, 6], [7, 8, 9]]\n",
    "# 打印二维数组\n",
    "\n",
    "# 打印原始数组\n",
    "for row in array_2d:\n",
    "    print(row)\n",
    "#按照行的中心线进行翻转\n",
    "#垂直翻转就是对外部列表进行逆序排序\n",
    "#步长是-1，意味着从后向前遍历\n",
    "flipped_vertically = array_2d[::-1]\n",
    "print(f\"\\n按行的中心线，垂直翻转以后：\")\n",
    "for row in flipped_vertically:\n",
    "    print(row)\n",
    "#水平翻转就是对内部列表进行逆序排序\n",
    "matrix = [\n",
    "    [1, 2, 3],\n",
    "    [4, 5, 6],\n",
    "    [7, 8, 9]\n",
    "]\n",
    "# 水平翻转\n",
    "flipped_horizontally = [row[::-1] for row in matrix]\n",
    "\n",
    "print(f\"\\n 按列的中心线，水平翻转以后：\")\n",
    "for row in flipped_horizontally:\n",
    "    print(row)\n",
    "\n",
    "\n"
   ]
  },
  {
   "cell_type": "code",
   "execution_count": 7,
   "id": "4935950f",
   "metadata": {},
   "outputs": [
    {
     "name": "stdout",
     "output_type": "stream",
     "text": [
      "[1, 5, 9]\n"
     ]
    }
   ],
   "source": [
    "#获取对角线上的元素\n",
    "#特点是行号和列号相同\n",
    "square_matrix = [\n",
    "    [1, 2, 3],\n",
    "    [4, 5, 6],\n",
    "    [7, 8, 9]\n",
    "]\n",
    "#使用列表推导式\n",
    "diagonal = [square_matrix[i][i] for i in range(len(square_matrix))]\n",
    "print(diagonal)"
   ]
  },
  {
   "cell_type": "code",
   "execution_count": 8,
   "id": "99cf7d4e",
   "metadata": {},
   "outputs": [
    {
     "name": "stdout",
     "output_type": "stream",
     "text": [
      "原始的二维列表为：[[1, 2, 3], [4, 5, 6]]\n",
      "转换成Numpy数组为：[[1 2 3]\n",
      " [4 5 6]]\n",
      "Numpy数组的类型为：<class 'numpy.ndarray'>\n"
     ]
    }
   ],
   "source": [
    "#若二维数组均为数字，将该二维数组转换成Numpy数组，并计算其行和列的和\n",
    "import numpy as np\n",
    "my_list = [[1,2,3],[4,5,6]]\n",
    "my_array = np.array(my_list)\n",
    "print(f\"原始的二维列表为：{my_list}\")\n",
    "print(f\"转换成Numpy数组为：{my_array}\")\n",
    "print(f\"Numpy数组的类型为：{type(my_array)}\")\n",
    "\n"
   ]
  },
  {
   "cell_type": "code",
   "execution_count": 9,
   "id": "345a67c0",
   "metadata": {},
   "outputs": [
    {
     "name": "stdout",
     "output_type": "stream",
     "text": [
      "====================\n",
      "案例一: 列表中只包含不可变数据类型\n",
      "====================\n",
      "原始列表 A (被赋值影响): [100, 2, 3], 地址: 3108920564480\n",
      "赋值列表 A: [100, 2, 3], 地址: 3108920564480\n",
      "地址是否相同: True\n",
      "\n",
      "原始列表 A (未被浅复制影响): [1, 2, 3], 地址: 3108920564928\n",
      "浅复制列表 A: [200, 2, 3], 地址: 3108920564864\n",
      "地址是否相同: False\n",
      "\n",
      "原始列表 A (未被深复制影响): [1, 2, 3], 地址: 3108920565376\n",
      "深复制列表 A: [300, 2, 3], 地址: 3108920565120\n",
      "地址是否相同: False\n",
      "\n",
      "====================\n",
      "案例二: 列表中包含可变数据类型\n",
      "====================\n",
      "原始列表 B (被赋值影响): [10, [20, 30, 99]], 地址: 3108920565696\n",
      "赋值列表 B: [10, [20, 30, 99]], 地址: 3108920565696\n",
      "地址是否相同: True\n",
      "\n",
      "原始列表 B (被浅复制影响了!): [10, [20, 30, 88]], 地址: 3108920565504\n",
      "浅复制列表 B: [10, [20, 30, 88]], 地址: 3108920564928\n",
      "外层列表地址是否相同: False\n",
      "内部子列表地址是否相同: True\n",
      "\n",
      "原始列表 B (未被深复制影响): [10, [20, 30]], 地址: 3108920564608\n",
      "深复制列表 B: [10, [20, 30, 77]], 地址: 3108920565824\n",
      "外层列表地址是否相同: False\n",
      "内部子列表地址是否相同: False\n"
     ]
    }
   ],
   "source": [
    "#比较python当中的赋值，浅复制和深复制\n",
    "import copy\n",
    "\n",
    "# ---- 案例一: 列表中只包含不可变数据类型 ----\n",
    "print(\"=\"*20)\n",
    "print(\"案例一: 列表中只包含不可变数据类型\")\n",
    "print(\"=\"*20)\n",
    "original_list_A = [1, 2, 3]\n",
    "\n",
    "# 1. 等号赋值: 只是引用的复制，指向同一个内存地址\n",
    "assigned_list_A = original_list_A\n",
    "assigned_list_A[0] = 100\n",
    "print(f\"原始列表 A (被赋值影响): {original_list_A}, 地址: {id(original_list_A)}\")\n",
    "print(f\"赋值列表 A: {assigned_list_A}, 地址: {id(assigned_list_A)}\")\n",
    "print(f\"地址是否相同: {id(original_list_A) == id(assigned_list_A)}\")\n",
    "\n",
    "# 2. 浅复制: 创建了一个新对象，但内部元素对于不可变类型来说没有影响\n",
    "original_list_A = [1, 2, 3] # 重置原始列表\n",
    "shallow_copy_A = copy.copy(original_list_A)\n",
    "shallow_copy_A[0] = 200\n",
    "print(f\"\\n原始列表 A (未被浅复制影响): {original_list_A}, 地址: {id(original_list_A)}\")\n",
    "print(f\"浅复制列表 A: {shallow_copy_A}, 地址: {id(shallow_copy_A)}\")\n",
    "print(f\"地址是否相同: {id(original_list_A) == id(shallow_copy_A)}\")\n",
    "\n",
    "# 3. 深复制: 对于只含不可变类型的列表，效果和浅复制一样\n",
    "original_list_A = [1, 2, 3] # 重置原始列表\n",
    "deep_copy_A = copy.deepcopy(original_list_A)\n",
    "deep_copy_A[0] = 300\n",
    "print(f\"\\n原始列表 A (未被深复制影响): {original_list_A}, 地址: {id(original_list_A)}\")\n",
    "print(f\"深复制列表 A: {deep_copy_A}, 地址: {id(deep_copy_A)}\")\n",
    "print(f\"地址是否相同: {id(original_list_A) == id(deep_copy_A)}\")\n",
    "\n",
    "\n",
    "# ---- 案例二: 列表中包含可变数据类型（如子列表）----\n",
    "print(\"\\n\" + \"=\"*20)\n",
    "print(\"案例二: 列表中包含可变数据类型\")\n",
    "print(\"=\"*20)\n",
    "original_list_B = [10, [20, 30]]\n",
    "\n",
    "# 1. 等号赋值\n",
    "assigned_list_B = original_list_B\n",
    "assigned_list_B[1].append(99) # 修改子列表\n",
    "print(f\"原始列表 B (被赋值影响): {original_list_B}, 地址: {id(original_list_B)}\")\n",
    "print(f\"赋值列表 B: {assigned_list_B}, 地址: {id(assigned_list_B)}\")\n",
    "print(f\"地址是否相同: {id(original_list_B) == id(assigned_list_B)}\")\n",
    "\n",
    "\n",
    "# 2. 浅复制: 关键点！\n",
    "# 浅复制只复制了最外层，内部的子列表仍然是引用。所以修改子列表会影响原始列表。\n",
    "original_list_B = [10, [20, 30]] # 重置原始列表\n",
    "shallow_copy_B = copy.copy(original_list_B)\n",
    "shallow_copy_B[1].append(88) # 修改子列表\n",
    "print(f\"\\n原始列表 B (被浅复制影响了!): {original_list_B}, 地址: {id(original_list_B)}\")\n",
    "print(f\"浅复制列表 B: {shallow_copy_B}, 地址: {id(shallow_copy_B)}\")\n",
    "print(f\"外层列表地址是否相同: {id(original_list_B) == id(shallow_copy_B)}\")\n",
    "print(f\"内部子列表地址是否相同: {id(original_list_B[1]) == id(shallow_copy_B[1])}\")\n",
    "\n",
    "\n",
    "# 3. 深复制: 关键点！\n",
    "# 深复制会递归地复制所有对象，包括子列表，所以它们完全独立。\n",
    "original_list_B = [10, [20, 30]] # 重置原始列表\n",
    "deep_copy_B = copy.deepcopy(original_list_B)\n",
    "deep_copy_B[1].append(77) # 修改子列表\n",
    "print(f\"\\n原始列表 B (未被深复制影响): {original_list_B}, 地址: {id(original_list_B)}\")\n",
    "print(f\"深复制列表 B: {deep_copy_B}, 地址: {id(deep_copy_B)}\")\n",
    "print(f\"外层列表地址是否相同: {id(original_list_B) == id(deep_copy_B)}\")\n",
    "print(f\"内部子列表地址是否相同: {id(original_list_B[1]) == id(deep_copy_B[1])}\")"
   ]
  }
 ],
 "metadata": {
  "kernelspec": {
   "display_name": "learn_python",
   "language": "python",
   "name": "python3"
  },
  "language_info": {
   "codemirror_mode": {
    "name": "ipython",
    "version": 3
   },
   "file_extension": ".py",
   "mimetype": "text/x-python",
   "name": "python",
   "nbconvert_exporter": "python",
   "pygments_lexer": "ipython3",
   "version": "3.11.13"
  }
 },
 "nbformat": 4,
 "nbformat_minor": 5
}
