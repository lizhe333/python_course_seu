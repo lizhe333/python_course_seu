{
 "cells": [
  {
   "cell_type": "markdown",
   "id": "57cc493e",
   "metadata": {},
   "source": [
    "# Python的序列结构 #"
   ]
  },
  {
   "cell_type": "markdown",
   "id": "8cf559ea",
   "metadata": {},
   "source": [
    "* 有序序列：列表（list），元组，字符串，range对象等\n",
    "\n",
    "* 无序序列：集合，字典\n",
    "\n",
    "* 可变序列：列表，集合，字典\n",
    "\n",
    "* 不可变序列：元组，字符串，range对象"
   ]
  },
  {
   "cell_type": "markdown",
   "id": "faad288f",
   "metadata": {},
   "source": [
    "列表的特性\n",
    "\n",
    "* 定义：列表是Python中内置的，有序的，可变的序列\n",
    "\n",
    "* 列表中的元素可以是不同的类型的数据类型，包括数字，字符串，甚至其他的列表\n",
    "\n",
    "* 内存管理，当增加或者删除元素的时候，列表会自动修改内存的占用"
   ]
  },
  {
   "cell_type": "code",
   "execution_count": null,
   "id": "0f23a330",
   "metadata": {},
   "outputs": [
    {
     "name": "stdout",
     "output_type": "stream",
     "text": [
      "直接创建的列表是:[1, 'a', [1, '东南'], '大学']\n"
     ]
    }
   ],
   "source": [
    "#首先创建一个列表\n",
    "list_1=[1,'a',[1,'东南'],'大学']\n",
    "\n",
    "print(f\"直接创建的列表是:{list_1}\")"
   ]
  },
  {
   "cell_type": "code",
   "execution_count": 1,
   "id": "6da07f1f",
   "metadata": {},
   "outputs": [
    {
     "name": "stdout",
     "output_type": "stream",
     "text": [
      "从元组当中创建的列表：[1, 3, 5, 7, 9]\n",
      "从range对象当中创建的列表:[1, 3, 5, 7, 9]\n",
      "删除list_2后再访问，出现错误name 'list_2' is not defined\n"
     ]
    }
   ],
   "source": [
    "#使用list()函数从其他的迭代对象（如元组，range）\n",
    "tumple_example= (1,3,5,7,9)\n",
    "list_2=list(tumple_example)\n",
    "\n",
    "print(f\"从元组当中创建的列表：{list_2}\")\n",
    "\n",
    "range_example = range(1,10,2)\n",
    "list_3=list(range_example)\n",
    "print(f\"从range对象当中创建的列表:{list_3}\")\n",
    "\n",
    "#使用del命令，删除这个列表\n",
    "del list_2\n",
    "try:\n",
    "  print(list_2)\n",
    "except NameError as e:\n",
    "  print(f\"删除list_2后再访问，出现错误{e}\")\n",
    "\n"
   ]
  },
  {
   "cell_type": "markdown",
   "id": "5ce7ef56",
   "metadata": {},
   "source": [
    "# 增添元素 # "
   ]
  },
  {
   "cell_type": "code",
   "execution_count": 2,
   "id": "f7e598d5",
   "metadata": {},
   "outputs": [
    {
     "name": "stdout",
     "output_type": "stream",
     "text": [
      "原始列表[1, 3, 5, 7]\n",
      "append(11)之后的结果是 ： [1, 3, 5, 7, 11]\n",
      "extend(13,15)之后:[1, 3, 5, 7, 11, 13, 15]\n",
      "使用+运算符创建的新列表[0, 1, 3, 5, 7, 11, 13, 15, 17, 19]\n",
      "原始列表还是[0, 1, 3, 5, 7, 11, 13, 15],没有改变\n",
      "使用*运算符创建的新列表:[1, 2, 1, 2, 1, 2]\n"
     ]
    }
   ],
   "source": [
    "#增添列表元素\n",
    "\n",
    "my_list=[1,3,5,7]\n",
    "print(f\"原始列表{my_list}\")\n",
    "\n",
    "#使用append函数，在尾部添加单个元素\n",
    "my_list.append(11)\n",
    "print(f\"append(11)之后的结果是 ： {my_list}\")\n",
    "\n",
    "#用extend()函数将一个可迭代对象的所有元素添加到列表的尾部\n",
    "my_list.extend([13,15])\n",
    "print(f\"extend(13,15)之后:{my_list}\")\n",
    "\n",
    "#使用insert()在指定位置插入元素\n",
    "my_list.insert(0,0)#在0的索引出加上一个0\n",
    "\n",
    "#+运算符：创建一个新的列表，效率较低\n",
    "new_list = my_list+[17,19]\n",
    "print(f\"使用+运算符创建的新列表{new_list}\")\n",
    "print(f\"原始列表还是{my_list},没有改变\")\n",
    "\n",
    "#使用*运算符，重复列表元素，并且创建一个新的列表\n",
    "repeated_list = [1,2]*3\n",
    "print(f\"使用*运算符创建的新列表:{repeated_list}\")"
   ]
  },
  {
   "cell_type": "markdown",
   "id": "6b60f0f0",
   "metadata": {},
   "source": [
    "# 删除元素 # "
   ]
  },
  {
   "cell_type": "code",
   "execution_count": 4,
   "id": "62e095b5",
   "metadata": {},
   "outputs": [
    {
     "name": "stdout",
     "output_type": "stream",
     "text": [
      "使用del my_list[0]后的my——list[1, 3, 5, 7, 11, 13, 15]\n",
      "使用my_list.pop()后：[1, 3, 5, 7, 11, 13]，弹出来的元素是15\n",
      "remove(5)以后：[1, 3, 7, 11, 13]\n",
      "clear()之后：[]\n"
     ]
    }
   ],
   "source": [
    "#删除表中元素\n",
    "\n",
    "#del函数，根据下标删除元素\n",
    "del my_list[0]\n",
    "print(f\"使用del my_list[0]后的my——list{my_list}\")\n",
    "\n",
    "#使用pop()删除并且返回指定位置的元素，默认是最后一个\n",
    "popped_element = my_list.pop()#也可以选择弹出指定位置的元素，在（）里面添加index即可\n",
    "print(f\"使用my_list.pop()后：{my_list}，弹出来的元素是{popped_element}\")\n",
    "\n",
    "#remove() 删除第一个匹配的指定值的元素\n",
    "#例如删除第一个出现的5\n",
    "my_list.remove(5)\n",
    "print(f\"remove(5)以后：{my_list}\")\n",
    "\n",
    "#clear()清空列表中的元素，但是保留列表对象\n",
    "my_list.clear(\n",
    ")\n",
    "print(f\"clear()之后：{my_list}\")\n",
    "\n"
   ]
  },
  {
   "cell_type": "markdown",
   "id": "bc0048cb",
   "metadata": {},
   "source": [
    "# 在循环当中删除元素的陷阱与正确做法 #\n",
    "\n",
    "在遍历列表删除元素的时候，会导致迭代器混乱，可能会跳过某些元素"
   ]
  },
  {
   "cell_type": "code",
   "execution_count": 5,
   "id": "92aa3a10",
   "metadata": {},
   "outputs": [
    {
     "name": "stdout",
     "output_type": "stream",
     "text": [
      "错误做法的结果是[2, 2, 1, 2]\n",
      "正确做法（遍历副本）的结果是:[2, 2, 2]\n",
      "正确做法（遍历副本）的结果是:[2, 2, 2]\n"
     ]
    }
   ],
   "source": [
    "list_wrong=[1,1,2,1,2,1,2]\n",
    "for i in list_wrong:\n",
    "  if i==1:\n",
    "    list_wrong.remove(i)\n",
    "print(f\"错误做法的结果是{list_wrong}\")\n",
    "\n",
    "#正确的做法是遍历列表的副本\n",
    "#remove正确数量个1\n",
    "list_correct_1=[1,1,2,1,2,1,2]\n",
    "for i in list_correct_1[:]:\n",
    "  if i==1:\n",
    "    list_correct_1.remove(i)\n",
    "print(f\"正确做法（遍历副本）的结果是:{list_correct_1}\")\n",
    "\n",
    "#法二：反向遍历删除\n",
    "#直接删除前面的后面会往前挪，但是从后往前删除，就不会有这个问题\n",
    "list_correct_2=[1,1,2,1,2,1,2]\n",
    "for i in range(len(list_correct_2)-1,-1,-1):\n",
    "  if list_correct_2[i]==1:\n",
    "    del list_correct_2[i]\n",
    "print(f\"正确做法（遍历副本）的结果是:{list_correct_2}\")"
   ]
  },
  {
   "cell_type": "markdown",
   "id": "4571ad15",
   "metadata": {},
   "source": [
    "# 列表切片 # "
   ]
  },
  {
   "cell_type": "code",
   "execution_count": 7,
   "id": "4a31ee25",
   "metadata": {},
   "outputs": [
    {
     "name": "stdout",
     "output_type": "stream",
     "text": [
      "前五个元素:[0, 1, 2, 3, 4]\n",
      "所有偶数索引:[0, 2, 4, 6, 8]\n",
      "所有奇数索引:[1, 3, 5, 7, 9]\n",
      "逆序：[9, 8, 7, 6, 5, 4, 3, 2, 1, 0]\n",
      "切片赋值后:['a', 'b', 'c', 3, 4, 5, 6, 7, 8, 9]\n"
     ]
    }
   ],
   "source": [
    "numbers = [0, 1, 2, 3, 4, 5, 6, 7, 8, 9]\n",
    "\n",
    "#基本切片\n",
    "print(f\"前五个元素:{numbers[:5]}\")\n",
    "print(f\"所有偶数索引:{numbers[::2]}\")\n",
    "print(f\"所有奇数索引:{numbers[1::2]}\")\n",
    "\n",
    "#将序列逆序\n",
    "print(f\"逆序：{numbers[::-1]}\")\n",
    "\n",
    "#使用切片修改列表\n",
    "numbers[0:3]=['a','b','c']\n",
    "print(f\"切片赋值后:{numbers}\")"
   ]
  },
  {
   "cell_type": "markdown",
   "id": "beddf825",
   "metadata": {},
   "source": [
    "# 使用赋值，浅复制和深复制 #"
   ]
  },
  {
   "cell_type": "code",
   "execution_count": 9,
   "id": "e8a573b9",
   "metadata": {},
   "outputs": [
    {
     "name": "stdout",
     "output_type": "stream",
     "text": [
      "原始列表: [1, 2, [3, 4]], ID: 2260128835840\n",
      "\n",
      "--- 赋值 (=) ---\n",
      "修改后，原始列表也被改变: [99, 2, [3, 4]]\n",
      "ID 是否相同: True\n",
      "--------------------\n",
      "\n",
      "--- 浅复制 (Shallow Copy) ---\n",
      "修改了嵌套列表后，原始列表也受影响: [1, 2, [3, 4, 5]]\n",
      "修改了顶层元素后，原始列表不受影响: 1\n",
      "新列表: [88, 2, [3, 4, 5]]\n",
      "ID 是否相同: False\n",
      "\n",
      "--- 深复制 (Deep Copy) ---\n",
      "修改了嵌套列表后，原始列表完全不受影响: [1, 2, [3, 4]]\n",
      "新列表: [77, 2, [3, 4, 5]]\n",
      "ID 是否相同: False\n"
     ]
    }
   ],
   "source": [
    "import copy\n",
    "\n",
    "# 准备一个包含可变对象（列表）的列表\n",
    "original_list = [1, 2, [3, 4]]\n",
    "print(f\"原始列表: {original_list}, ID: {id(original_list)}\\n\")\n",
    "\n",
    "# 7.1 赋值 (=): 只是引用的复制，两个变量指向同一个对象 [cite: 606]\n",
    "assigned_list = original_list\n",
    "assigned_list[0] = 99\n",
    "print(\"--- 赋值 (=) ---\")\n",
    "print(f\"修改后，原始列表也被改变: {original_list}\") \n",
    "print(f\"ID 是否相同: {id(original_list) == id(assigned_list)}\") \n",
    "print(\"-\" * 20 + \"\\n\")\n",
    "\n",
    "# 恢复原始列表\n",
    "original_list = [1, 2, [3, 4]]\n",
    "\n",
    "# 7.2 浅复制 (copy.copy() 或 [:]): 创建新对象，但内部元素是引用 [cite: 586, 631]\n",
    "shallow_copy_list = original_list.copy() # 或 copy.copy(original_list) 或 original_list[:] [cite: 658]\n",
    "shallow_copy_list[0] = 88 # 修改不可变元素\n",
    "shallow_copy_list[2].append(5) # 修改嵌套的可变元素\n",
    "print(\"--- 浅复制 (Shallow Copy) ---\")\n",
    "print(f\"修改了嵌套列表后，原始列表也受影响: {original_list}\")\n",
    "print(f\"修改了顶层元素后，原始列表不受影响: {original_list[0]}\")\n",
    "print(f\"新列表: {shallow_copy_list}\")\n",
    "print(f\"ID 是否相同: {id(original_list) == id(shallow_copy_list)}\\n\")\n",
    "\n",
    "# 恢复原始列表\n",
    "original_list = [1, 2, [3, 4]]\n",
    "\n",
    "# 7.3 深复制 (copy.deepcopy()): 创建一个完全独立的新对象，包括所有嵌套对象 [cite: 699]\n",
    "deep_copy_list = copy.deepcopy(original_list)\n",
    "deep_copy_list[0] = 77\n",
    "deep_copy_list[2].append(5)\n",
    "print(\"--- 深复制 (Deep Copy) ---\")\n",
    "print(f\"修改了嵌套列表后，原始列表完全不受影响: {original_list}\") \n",
    "print(f\"新列表: {deep_copy_list}\")\n",
    "print(f\"ID 是否相同: {id(original_list) == id(deep_copy_list)}\")"
   ]
  }
 ],
 "metadata": {
  "kernelspec": {
   "display_name": "Python 3",
   "language": "python",
   "name": "python3"
  },
  "language_info": {
   "codemirror_mode": {
    "name": "ipython",
    "version": 3
   },
   "file_extension": ".py",
   "mimetype": "text/x-python",
   "name": "python",
   "nbconvert_exporter": "python",
   "pygments_lexer": "ipython3",
   "version": "3.11.13"
  }
 },
 "nbformat": 4,
 "nbformat_minor": 5
}
